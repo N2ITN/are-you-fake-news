{
 "cells": [
  {
   "cell_type": "code",
   "execution_count": 54,
   "metadata": {},
   "outputs": [],
   "source": [
    "%matplotlib inline"
   ]
  },
  {
   "cell_type": "code",
   "execution_count": 435,
   "metadata": {},
   "outputs": [],
   "source": [
    "info_scores = scores = {\n",
    "    'right': 0.109109,\n",
    "    'satire': 0.014451,\n",
    "    'extreme right': 0.082787,\n",
    "    'fake news': 0.13344,\n",
    "    'mixed': 0.201706,\n",
    "    'low': 0.020118,\n",
    "    'left': 0.029501,\n",
    "    'conspiracy': 0.164796,\n",
    "    'propaganda': 0.068387,\n",
    "    'extreme left': 0.00309,\n",
    "    'left-center': 0.040634,\n",
    "    'hate': 0.011651,\n",
    "    'center': 0.007294,\n",
    "    'high': 0.077065,\n",
    "    'pro-science': 0.000957,\n",
    "    'very high': 0.001403,\n",
    "    'right-center': 0.021482\n",
    "}\n",
    "nn_scores = {\n",
    "    'right': 0.033052,\n",
    "    'satire': 0.003172,\n",
    "    'extreme right': 0.008892,\n",
    "    'fake news': 0.017999,\n",
    "    'mixed': 0.129864,\n",
    "    'low': 0.1733,\n",
    "    'left': 0.005643,\n",
    "    'conspiracy': 0.58503,\n",
    "    'propaganda': 0.00899,\n",
    "    'extreme left': 0.000191,\n",
    "    'left-center': 0.007733,\n",
    "    'hate': 0.002475,\n",
    "    'center': 0.001466,\n",
    "    'high': 0.027105,\n",
    "    'pro-science': 0.002131,\n",
    "    'very high': 0.000795,\n",
    "    'right-center': 0.003194\n",
    "}\n",
    "steemit_scores = {\n",
    "    'right': 0.063293,\n",
    "    'satire': 0.005306,\n",
    "    'extreme right': 0.002357,\n",
    "    'fake news': 0.015981,\n",
    "    'mixed': 0.205779,\n",
    "    'low': 0.177397,\n",
    "    'left': 0.019594,\n",
    "    'conspiracy': 0.47315,\n",
    "    'propaganda': 0.016673,\n",
    "    'extreme left': 0.000951,\n",
    "    'left-center': 0.024699,\n",
    "    'hate': 0.00017,\n",
    "    'center': 0.035536,\n",
    "    'high': 0.079868,\n",
    "    'pro-science': 0.020274,\n",
    "    'very high': 0.047223,\n",
    "    'right-center': 0.027112\n",
    "}"
   ]
  },
  {
   "cell_type": "code",
   "execution_count": 403,
   "metadata": {},
   "outputs": [
    {
     "data": {
      "image/png": "[encoded data removed]",
      "text/plain": [
       "<matplotlib.figure.Figure at 0x7f97274387b8>"
      ]
     },
     "metadata": {},
     "output_type": "display_data"
    }
   ],
   "source": [
    "pd.DataFrame({'scores':scores}).plot.hist(bins=17);"
   ]
  },
  {
   "cell_type": "code",
   "execution_count": 404,
   "metadata": {},
   "outputs": [],
   "source": [
    "pol = ('right', 'right-center', 'extreme right', 'left-center', 'center','extreme left', 'left')\n",
    "acc = ('low','mixed','high','very high')\n",
    "char= ('hate','satire','fake news','propaganda','pro-science','conspiracy')\n",
    "category_dict = {'pol':pol,'acc':acc,'char':char}\n",
    "dict_category = {v:k for k,v in category_dict.items()}"
   ]
  },
  {
   "cell_type": "code",
   "execution_count": 405,
   "metadata": {},
   "outputs": [],
   "source": [
    "def label_cleaner(key):\n",
    "    \n",
    "    clean = {'mixed':'mixed accuracy',\n",
    "          'low':'low accuracy'}\n",
    "    if key in clean:\n",
    "        \n",
    "        return clean[key]\n",
    "    else: return key\n"
   ]
  },
  {
   "cell_type": "code",
   "execution_count": 406,
   "metadata": {},
   "outputs": [
    {
     "name": "stdout",
     "output_type": "stream",
     "text": [
      "This publication scored the highest for ['mixed accuracy', 'conspiracy', 'fake news', 'right', 'extreme right']\n"
     ]
    }
   ],
   "source": [
    "highest_scores = sorted(scores.items(),key=lambda kv:kv[1],reverse=True)[:5]\n",
    "\n",
    "highest_scores = list(zip(*highest_scores))[0]\n",
    "highest_scores = [label_cleaner(x) for x in highest_scores]\n",
    "print(\"This publication scored the highest for {}\".format(highest_scores))"
   ]
  },
  {
   "cell_type": "code",
   "execution_count": 407,
   "metadata": {},
   "outputs": [
    {
     "name": "stdout",
     "output_type": "stream",
     "text": [
      "[{'pol': [{'right': 0.109109}, {'extreme right': 0.082787}]},\n",
      " {'acc': [{'mixed': 0.201706}, {'high': 0.077065}]},\n",
      " {'char': [{'conspiracy': 0.164796}, {'fake news': 0.13344}]}]\n"
     ]
    }
   ],
   "source": [
    "def max_scores(cat,vals):\n",
    "    \n",
    "    cat_scores = {k:v for k,v in scores.items() if k in vals}\n",
    "    def get_max():\n",
    "        return {k:v for k,v in cat_scores.items() if v==max(cat_scores.values()) }\n",
    "    max_scores = get_max()\n",
    "    [cat_scores.pop(k) for k in max_scores]\n",
    "    \n",
    "    max2_scores = get_max()\n",
    "    return {cat: [max_scores, max2_scores]}\n",
    "    \n",
    "\n",
    "top = [max_scores(cat,vals) for cat,vals in category_dict.items()]\n",
    "pprint(top)"
   ]
  },
  {
   "cell_type": "code",
   "execution_count": 408,
   "metadata": {},
   "outputs": [
    {
     "data": {
      "text/plain": [
       "{'mixed': 0.201706, 'pro-science': 0.000957}"
      ]
     },
     "execution_count": 408,
     "metadata": {},
     "output_type": "execute_result"
    }
   ],
   "source": [
    "max_all = {k:v for k,v in scores.items() if v==max(scores.values()) }\n",
    "min_all = {k:v for k,v in scores.items() if v==min(scores.values()) }\n",
    "range_dict = {}\n",
    "range_dict.update(min_all)\n",
    "range_dict.update(max_all)\n",
    "\n",
    "range_dict"
   ]
  },
  {
   "cell_type": "code",
   "execution_count": 409,
   "metadata": {},
   "outputs": [],
   "source": [
    "import numpy as np"
   ]
  },
  {
   "cell_type": "code",
   "execution_count": 410,
   "metadata": {},
   "outputs": [],
   "source": [
    "std = np.std(list(scores.values()))\n",
    "mean = np.mean(list(scores.values()))\n",
    "median = np.median(list(scores.values()))\n"
   ]
  },
  {
   "cell_type": "code",
   "execution_count": 411,
   "metadata": {},
   "outputs": [
    {
     "data": {
      "text/plain": [
       "(0.000957, 0.051144249999999995, 0.10133149999999999, 0.15151875, 0.201706)"
      ]
     },
     "execution_count": 411,
     "metadata": {},
     "output_type": "execute_result"
    }
   ],
   "source": [
    "mi, ma = range_dict.values()\n",
    "step = (ma-mi)/4\n",
    "a,b,c,d = np.arange(mi,ma,step)\n",
    "a,b,c,d, ma"
   ]
  },
  {
   "cell_type": "code",
   "execution_count": 412,
   "metadata": {},
   "outputs": [
    {
     "data": {
      "image/png": "[encoded data removed]",
      "text/plain": [
       "<matplotlib.figure.Figure at 0x7f9727386470>"
      ]
     },
     "metadata": {},
     "output_type": "display_data"
    },
    {
     "data": {
      "image/png": "[encoded data removed]",
      "text/plain": [
       "<matplotlib.figure.Figure at 0x7f972733c2b0>"
      ]
     },
     "metadata": {},
     "output_type": "display_data"
    }
   ],
   "source": [
    "import pandas as pd\n",
    "pd.DataFrame({'scores':scores}).plot.kde();\n",
    "pd.DataFrame({'scores':scores}).plot.hist();"
   ]
  },
  {
   "cell_type": "code",
   "execution_count": 413,
   "metadata": {},
   "outputs": [
    {
     "data": {
      "text/plain": [
       "{'acc': [{'mixed': 0.201706},\n",
       "  {'low': 0.020118},\n",
       "  {'high': 0.077065},\n",
       "  {'very high': 0.001403}],\n",
       " 'char': [{'satire': 0.014451},\n",
       "  {'fake news': 0.13344},\n",
       "  {'conspiracy': 0.164796},\n",
       "  {'propaganda': 0.068387},\n",
       "  {'hate': 0.011651},\n",
       "  {'pro-science': 0.000957}],\n",
       " 'pol': [{'right': 0.109109},\n",
       "  {'extreme right': 0.082787},\n",
       "  {'left': 0.029501},\n",
       "  {'extreme left': 0.00309},\n",
       "  {'left-center': 0.040634},\n",
       "  {'center': 0.007294},\n",
       "  {'right-center': 0.021482}]}"
      ]
     },
     "execution_count": 413,
     "metadata": {},
     "output_type": "execute_result"
    }
   ],
   "source": [
    "  "
   ]
  },
  {
   "cell_type": "code",
   "execution_count": 414,
   "metadata": {},
   "outputs": [
    {
     "ename": "NameError",
     "evalue": "name 'accum' is not defined",
     "output_type": "error",
     "traceback": [
      "\u001b[0;31m---------------------------------------------------------------------------\u001b[0m",
      "\u001b[0;31mNameError\u001b[0m                                 Traceback (most recent call last)",
      "\u001b[0;32m<ipython-input-414-3dd5c48246c2>\u001b[0m in \u001b[0;36m<module>\u001b[0;34m()\u001b[0m\n\u001b[1;32m     16\u001b[0m \u001b[0;31m#                 acum[cat].append('very log for ' + label)\u001b[0m\u001b[0;34m\u001b[0m\u001b[0;34m\u001b[0m\u001b[0m\n\u001b[1;32m     17\u001b[0m \u001b[0;31m# from pprint import pprint\u001b[0m\u001b[0;34m\u001b[0m\u001b[0;34m\u001b[0m\u001b[0m\n\u001b[0;32m---> 18\u001b[0;31m \u001b[0;32mfor\u001b[0m \u001b[0mk\u001b[0m\u001b[0;34m,\u001b[0m\u001b[0mv\u001b[0m \u001b[0;32min\u001b[0m \u001b[0maccum\u001b[0m\u001b[0;34m.\u001b[0m\u001b[0mitems\u001b[0m\u001b[0;34m(\u001b[0m\u001b[0;34m)\u001b[0m\u001b[0;34m:\u001b[0m\u001b[0;34m\u001b[0m\u001b[0m\n\u001b[0m\u001b[1;32m     19\u001b[0m     \u001b[0mprint\u001b[0m \u001b[0;34m(\u001b[0m\u001b[0;34m)\u001b[0m\u001b[0;34m\u001b[0m\u001b[0m\n",
      "\u001b[0;31mNameError\u001b[0m: name 'accum' is not defined"
     ]
    }
   ],
   "source": [
    "acum = {k:[] for k in ['pol','acc','char']}\n",
    "for top_cat in top:\n",
    "    for cat, vals in top_cat.items():\n",
    "        for label_score in vals:\n",
    "            label, score= [*label_score.items()][0]\n",
    "            \n",
    "            if score > d:\n",
    "                acum[cat].append('very high for ' + label_cleaner(label))\n",
    "            if d > score > c:\n",
    "                acum[cat].append('high for ' + label_cleaner(label))\n",
    "            if c > score > b:\n",
    "                acum[cat].append('moderate for ' + label_cleaner(label))\n",
    "#             if b > score > a:\n",
    "#                 acum[cat].append('low for ' + label)\n",
    "#             if a > score:\n",
    "#                 acum[cat].append('very log for ' + label)\n",
    "# from pprint import pprint\n",
    "for k,v in accum.items():\n",
    "    print ()\n"
   ]
  },
  {
   "cell_type": "code",
   "execution_count": 415,
   "metadata": {},
   "outputs": [
    {
     "data": {
      "text/plain": [
       "5.5"
      ]
     },
     "execution_count": 415,
     "metadata": {},
     "output_type": "execute_result"
    }
   ],
   "source": [
    "s = list(zip([1,1,1,1,1,9],range(1,7)))\n",
    "s2 = [x[0]*x[1] for x in s]\n",
    "np.mean(s2)-6"
   ]
  },
  {
   "cell_type": "code",
   "execution_count": 416,
   "metadata": {},
   "outputs": [
    {
     "data": {
      "text/plain": [
       "22.833333333333332"
      ]
     },
     "execution_count": 416,
     "metadata": {},
     "output_type": "execute_result"
    }
   ],
   "source": [
    "s = list(zip([9,1,9,9,9,9],range(1,7)))\n",
    "s2 = [x[0]*x[1] for x in s]\n",
    "np.mean(s2)-6"
   ]
  },
  {
   "cell_type": "code",
   "execution_count": 436,
   "metadata": {},
   "outputs": [
    {
     "name": "stdout",
     "output_type": "stream",
     "text": [
      "{'pol': [{'right': 0.109109}, {'extreme right': 0.082787}, {'left': 0.029501}, {'extreme left': 0.00309}, {'left-center': 0.040634}, {'center': 0.007294}, {'right-center': 0.021482}], 'acc': [{'mixed': 0.201706}, {'low': 0.020118}, {'high': 0.077065}, {'very high': 0.001403}], 'char': [{'satire': 0.014451}, {'fake news': 0.13344}, {'conspiracy': 0.164796}, {'propaganda': 0.068387}, {'hate': 0.011651}, {'pro-science': 0.000957}]}\n",
      "satire 0.005306\n",
      "fake news 0.015981\n",
      "conspiracy 0.47315\n",
      "propaganda 0.016673\n",
      "hate 0.00017\n",
      "pro-science 0.020274\n",
      "satire 0.014451\n",
      "fake news 0.13344\n",
      "conspiracy 0.164796\n",
      "propaganda 0.068387\n",
      "hate 0.011651\n",
      "pro-science 0.000957\n"
     ]
    }
   ],
   "source": [
    "\n",
    "def make_master(score_dict):\n",
    "    master = {k:[] for k in ['pol','acc','char']}\n",
    "    for label, score in score_dict.items():\n",
    "        for labels, cat in dict_category.items():\n",
    "            if label in labels:\n",
    "\n",
    "                master[cat].append({label:score})\n",
    "    return master\n",
    "        \n",
    "    \n",
    "print(master)\n",
    "def radar_data(score_dict):\n",
    "    zi = {}\n",
    "    for d in make_master(score_dict)['char']:\n",
    "        k, v = list(d.items())[0]\n",
    "        print(k,v)\n",
    "        zi.update({k:[v]})\n",
    "\n",
    "    return zi\n",
    "\n",
    "\n",
    "si = radar_data(steemit_scores)\n",
    "iw = radar_data(info_scores)"
   ]
  },
  {
   "cell_type": "code",
   "execution_count": 437,
   "metadata": {},
   "outputs": [],
   "source": [
    "import matplotlib.pyplot as plt\n",
    " \n",
    "# Get current size\n",
    "\n",
    "fig_size = plt.rcParams[\"figure.figsize\"]\n",
    "\n",
    "fig_size[0] = 9\n",
    "fig_size[1] = 9\n",
    "plt.rcParams[\"figure.figsize\"] = fig_size"
   ]
  },
  {
   "cell_type": "code",
   "execution_count": 439,
   "metadata": {},
   "outputs": [
    {
     "name": "stdout",
     "output_type": "stream",
     "text": [
      "6\n"
     ]
    },
    {
     "data": {
      "text/plain": [
       "[<matplotlib.patches.Polygon at 0x7f97272967b8>]"
      ]
     },
     "execution_count": 439,
     "metadata": {},
     "output_type": "execute_result"
    },
    {
     "data": {
      "image/png": "[encoded data removed]",
      "text/plain": [
       "<matplotlib.figure.Figure at 0x7f97270f9ef0>"
      ]
     },
     "metadata": {},
     "output_type": "display_data"
    }
   ],
   "source": [
    "#https://python-graph-gallery.com/390-basic-radar-chart/\n",
    "\n",
    "# Libraries\n",
    "import matplotlib.pyplot as plt\n",
    "import seaborn as sns\n",
    "\n",
    "import pandas as pd\n",
    "from math import pi\n",
    " \n",
    "# Set data\n",
    "df = pd.DataFrame(si)\n",
    " \n",
    "# number of variable\n",
    "categories=list(df)\n",
    "N = len(categories)\n",
    "print(N)\n",
    "# We are going to plot the first line of the data frame.\n",
    "# But we need to repeat the first value to close the circular graph:\n",
    "values=df.loc[0].values.flatten().tolist()\n",
    "# print(values)\n",
    "values += values[:1]\n",
    "\n",
    " \n",
    "# What will be the angle of each axis in the plot? (we divide the plot / number of variable)\n",
    "angles = [n / float(N) * 2 * pi for n in range(N)]\n",
    "angles += angles[:1]\n",
    "sns.set(context='notebook',palette='viridis')\n",
    "# Initialise the spider plot\n",
    "ax = plt.subplot(111, polar=True)\n",
    " \n",
    "# Draw one axe per variable + add labels labels yet\n",
    "plt.xticks(angles[:-1], categories, color='grey', size=8)\n",
    " \n",
    "# Draw ylabels\n",
    "ax.set_rlabel_position(0)\n",
    "plt.yticks([mi,ma], [str(mi)+str(ma)], color=\"grey\", size=7)\n",
    "# plt.ylim(0,40)\n",
    " \n",
    "# Plot data\n",
    "ax.plot(angles, values, linewidth=1, linestyle='solid')\n",
    " \n",
    "# Fill area\n",
    "ax.fill(angles, values, 'b', alpha=0.1)\n",
    "\n"
   ]
  },
  {
   "cell_type": "code",
   "execution_count": null,
   "metadata": {},
   "outputs": [],
   "source": []
  }
 ],
 "metadata": {
  "kernelspec": {
   "display_name": "Python 3",
   "language": "python",
   "name": "python3"
  },
  "language_info": {
   "codemirror_mode": {
    "name": "ipython",
    "version": 3
   },
   "file_extension": ".py",
   "mimetype": "text/x-python",
   "name": "python",
   "nbconvert_exporter": "python",
   "pygments_lexer": "ipython3",
   "version": "3.6.3"
  }
 },
 "nbformat": 4,
 "nbformat_minor": 2
}
